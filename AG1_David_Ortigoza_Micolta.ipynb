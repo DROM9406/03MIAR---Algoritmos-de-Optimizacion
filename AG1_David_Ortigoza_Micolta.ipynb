{
  "nbformat": 4,
  "nbformat_minor": 0,
  "metadata": {
    "colab": {
      "provenance": []
    },
    "kernelspec": {
      "name": "python3",
      "display_name": "Python 3"
    },
    "language_info": {
      "name": "python"
    }
  },
  "cells": [
    {
      "cell_type": "markdown",
      "source": [
        "# Actividad Guiada 1 Algoritmos de optimización\n",
        "\n",
        "David Ricardo Ortigoza Micolta\n",
        "\n",
        "Notebook: https://colab.research.google.com/drive/161fx8FgMS07r_S6roN51zxojbKFKdvsj?usp=sharing\n",
        "\n",
        "github: https://github.com/DROM9406/03MIAR---Algoritmos-de-Optimizacion"
      ],
      "metadata": {
        "id": "CTqv2uHcSttF"
      }
    },
    {
      "cell_type": "markdown",
      "source": [
        "## Divide y vencerás"
      ],
      "metadata": {
        "id": "xkHDKmvtWdjS"
      }
    },
    {
      "cell_type": "code",
      "source": [
        "# Torres de hanoy\n",
        "def torres_hanoy(N,desde,hasta):\n",
        "  \"\"\"\n",
        "  N = número de fichas\n",
        "  deste= número del poste de ubivavión inicial de la torre\n",
        "  hasta=númedo del poste donde debe terminar la torre\n",
        "  \"\"\"\n",
        "  if N==1:\n",
        "    print(f'LLevar la ficha {N} desde {desde} hasta {hasta}')\n",
        "  else:\n",
        "    #llevar la ficha al pivote\n",
        "    torres_hanoy(N-1,desde,6-desde-hasta)\n",
        "    print(f'LLevar la ficha {N} desde {desde} hasta {hasta}')\n",
        "    #llevar la ficha del pivote hasta \n",
        "    torres_hanoy(N-1,6-desde-hasta,hasta)\n",
        "\n",
        "\n",
        "torres_hanoy(3,1,3)"
      ],
      "metadata": {
        "colab": {
          "base_uri": "https://localhost:8080/"
        },
        "id": "g3RMQWBKWi5s",
        "outputId": "a8717030-30a5-4465-b1eb-9fd13368bbfe"
      },
      "execution_count": 10,
      "outputs": [
        {
          "output_type": "stream",
          "name": "stdout",
          "text": [
            "LLevar la ficha 1 desde 1 hasta 3\n",
            "LLevar la ficha 2 desde 1 hasta 2\n",
            "LLevar la ficha 1 desde 3 hasta 2\n",
            "LLevar la ficha 3 desde 1 hasta 3\n",
            "LLevar la ficha 1 desde 2 hasta 1\n",
            "LLevar la ficha 2 desde 2 hasta 3\n",
            "LLevar la ficha 1 desde 1 hasta 3\n"
          ]
        }
      ]
    },
    {
      "cell_type": "code",
      "source": [
        "#técnica voraz\n",
        "sistema=[25,10,5,1]\n",
        "def cambio_monedas(cantidad, sistema):\n",
        "  # cantidad a cambiar\n",
        "  # sistema: valor de las monedas diferente, ordenado de mayor valor a menor\n",
        "  solucion = {}\n",
        "  for v in sistema:\n",
        "    monedas =cantidad//v\n",
        "    solucion[v]=monedas\n",
        "    cantidad -= monedas * v\n",
        "    if cantidad==0:\n",
        "      return solucion\n",
        "\n",
        "cambio_monedas(157,[20,10,5,1])"
      ],
      "metadata": {
        "colab": {
          "base_uri": "https://localhost:8080/"
        },
        "id": "D6eIzYq5bJ1B",
        "outputId": "54cd0334-f7bd-41fa-c67e-32b91d574230"
      },
      "execution_count": 11,
      "outputs": [
        {
          "output_type": "execute_result",
          "data": {
            "text/plain": [
              "{20: 7, 10: 1, 5: 1, 1: 2}"
            ]
          },
          "metadata": {},
          "execution_count": 11
        }
      ]
    },
    {
      "cell_type": "code",
      "source": [
        "#backtracking\n",
        "\n",
        "def es_prometedora(SOLUCION,etapa):\n",
        "  for i in range(etapa+1):\n",
        "    # si hay dos reinas en la misma fila\n",
        "    if SOLUCION.count(SOLUCION[i]) > 1:       \n",
        "      return False\n",
        "  \n",
        "    #Verifica las diagonales\n",
        "    for j in range(i+1, etapa +1 ):\n",
        "      if abs(i-j) == abs(SOLUCION[i]-SOLUCION[j]) : return False\n",
        "  return True\n",
        "\n",
        "\n",
        "#Proceso principal de N-Reinas\n",
        "def reinas(N, solucion=[],etapa=0):\n",
        "  #crea lista llena de 0 \n",
        "  if len(solucion) == 0:\n",
        "    solucion = [0 for i in range(N) ]\n",
        "  #loop para recorrer entre 1 a N\n",
        "  for i in range(1, N+1):\n",
        "    #asigna el valir de i a la pisición \n",
        "    solucion[etapa] = i\n",
        "    #evaluación si la solucion es prometedora\n",
        "    if es_prometedora(solucion, etapa):\n",
        "      #evalua si la etapa es igual al numeor de reinas -1 (tamaño de la solución)\n",
        "      if etapa == N-1:\n",
        "        #imprime la solucion enontrada\n",
        "        print(solucion)\n",
        "      else:  \n",
        "        #recursividad que suma 1 a la etapa y envia el array que se tenga en soluciona a una nueva evaluación\n",
        "        reinas(N, solucion, etapa+1)\n",
        "    else:\n",
        "      None\n",
        "  \n",
        "  solucion[etapa] = 0\n",
        "\n",
        "soluciones=reinas(5,solucion=[],etapa=0)"
      ],
      "metadata": {
        "id": "GizTJ6cY6YrS",
        "colab": {
          "base_uri": "https://localhost:8080/"
        },
        "outputId": "f541001d-a6fc-4013-fa26-ba640468ed42"
      },
      "execution_count": 52,
      "outputs": [
        {
          "output_type": "stream",
          "name": "stdout",
          "text": [
            "[1, 3, 5, 2, 4]\n",
            "[1, 4, 2, 5, 3]\n",
            "[2, 4, 1, 3, 5]\n",
            "[2, 5, 3, 1, 4]\n",
            "[3, 1, 4, 2, 5]\n",
            "[3, 5, 2, 4, 1]\n",
            "[4, 1, 3, 5, 2]\n",
            "[4, 2, 5, 3, 1]\n",
            "[5, 2, 4, 1, 3]\n",
            "[5, 3, 1, 4, 2]\n"
          ]
        }
      ]
    },
    {
      "cell_type": "code",
      "source": [
        "def escribe_solucion(S):\n",
        "################################################################\n",
        "  n = len(S)\n",
        "  for x in range(n):\n",
        "    print(\"\")\n",
        "    for i in range(n):\n",
        "      if S[i] == x+1:\n",
        "        print(\" X \" , end=\"\")\n",
        "      else:\n",
        "        print(\" - \", end=\"\")"
      ],
      "metadata": {
        "id": "1AEB7pkv1qUo"
      },
      "execution_count": 53,
      "outputs": []
    },
    {
      "cell_type": "code",
      "source": [
        "escribe_solucion([1, 3, 5, 2, 4])"
      ],
      "metadata": {
        "colab": {
          "base_uri": "https://localhost:8080/"
        },
        "id": "hXAqGVLP2NKL",
        "outputId": "5dbe54d7-e3b6-4dc8-acd8-a36b42758bdb"
      },
      "execution_count": 55,
      "outputs": [
        {
          "output_type": "stream",
          "name": "stdout",
          "text": [
            "\n",
            " X  -  -  -  - \n",
            " -  -  -  X  - \n",
            " -  X  -  -  - \n",
            " -  -  -  -  X \n",
            " -  -  X  -  - "
          ]
        }
      ]
    }
  ]
}