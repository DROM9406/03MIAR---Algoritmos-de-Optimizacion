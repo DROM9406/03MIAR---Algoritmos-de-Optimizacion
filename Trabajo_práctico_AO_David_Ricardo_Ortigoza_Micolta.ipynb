{
  "nbformat": 4,
  "nbformat_minor": 0,
  "metadata": {
    "colab": {
      "provenance": []
    },
    "kernelspec": {
      "name": "python3",
      "display_name": "Python 3"
    },
    "language_info": {
      "name": "python"
    }
  },
  "cells": [
    {
      "cell_type": "markdown",
      "source": [
        "# Trabajo Práctico Algoritmos de Optimización:\n",
        "\n",
        "David Ricardo Ortigoza Micolta\n",
        "\n",
        "colab: https://colab.research.google.com/drive/1pKAPpVJZT1Kng2uT1Yug6GZs-2r2mArr?usp=sharing\n",
        "\n",
        "github:"
      ],
      "metadata": {
        "id": "ikVsQmYM59v4"
      }
    },
    {
      "cell_type": "markdown",
      "source": [
        "## Problema 3: combinar cifras y operaciones:\n",
        "<b>Descripción del problema: </b>\n",
        "\n",
        "- Disponemos de las 9 cifras del 1 al 9 (excluimos el cero) y de los 4 signos basicos de las operaciones fundamentales: suma(+), resta(-), multiplicación(*)  y división(/).\n",
        "- Debemos combinarlos aleatoriamente <b> sin repetir ninguno de ellos </b> para obtener una cantiadad dada. Un ejemplo sería para obtener el 4:\n",
        "\n",
        "> > 4+2-6/3*1=4\n",
        "\n",
        "- Debe analizarse el problema para encontrar todos los <b>valores enteros</b> posibles panteando las siguietes cuestiones:\n",
        "\n",
        "\n",
        "> > 1) ¿qué valor máximo y mínimo se pueden obtener según las condiciones del problema.\n",
        "\n",
        "> > 2) ¿Es posible encontrar todos los valores enteros posibles entre dicho máximo y mínimo?.\n",
        "\n",
        "- Nota: es posible usar la función python \"eval\" para evaluar la expresión.\n",
        "\n",
        "\n",
        "\n",
        "\n",
        "\n",
        "\n",
        "\n"
      ],
      "metadata": {
        "id": "tqxiAsSG6hUM"
      }
    },
    {
      "cell_type": "markdown",
      "source": [
        "###  (*)¿Cuantas posibilidades hay sin tener en cuenta las restricciones?<br>\n",
        "\n",
        "#### Análisis del Problema\n",
        "\n",
        "Si no se tiene en cuenta las restricciones del problema tendriamos que abordar el problema de los números y operaciones como una variación con repetición donde m=13 y n =9\n",
        "$$\n",
        "VR _{m}^{n}=m^{n}\n",
        "$$\n",
        "\n",
        "Lo que daría un total de <b>10604499373</b> posibles expresiones a evaluar.\n",
        "\n"
      ],
      "metadata": {
        "id": "-FhOc039deNH"
      }
    },
    {
      "cell_type": "markdown",
      "source": [
        "###  ¿Cuantas posibilidades hay teniendo en cuenta todas las restricciones.\n",
        "#### Análisis del problema:\n",
        "Restricción: \n",
        ">- Debe ser una <b> combinación sin repetición </b> que permita obtener un <b> numero entero</b>.\n",
        ">- No pude iniciar la cadena a evaluar con una operación fundamental\n",
        ">- No puede haber 2 numeros consecutivos.\n",
        ">- La expresión no puede terminar en una operación elemental.\n",
        ">- Las operaciones elementales de multiplicación y división no puden ir seguidas.\n",
        "\n",
        "Consideraciones del problema:\n",
        "\n",
        "tenemos un total de 13 elementos que debemos usar para crear las expresiones de 5 númetos y 4 operaciones, sin embargo el orden de los números si importa y no se puden repetir, a diferencia del de las operaciones, donde el orden no importa, pero tampoco se puden repetir\n",
        "\n",
        "Lo que deja un problema de variación sin repetición para los numeros.\n",
        "\n",
        "$$\n",
        "V_{m}^{n}=\\frac{m!}{(m-n)!}\n",
        "$$\n",
        "Donde m es el número de digitos disponibles y n el número de digitos que podemos usar que son 9 y 5 respectivamente. \n",
        "\n",
        "Por otro lado para el comportamiento de las operaciones es una combinación sin repetición, donde n es 4.\n",
        "$$\n",
        "P_{n}=n!\n",
        "$$\n",
        "\n",
        "Aplicando estas consideraciones la cantiad de operaciones a evaluar da un total de <b>362880</b>"
      ],
      "metadata": {
        "id": "q9mslmTi-GdV"
      }
    },
    {
      "cell_type": "markdown",
      "source": [
        "##   Modelo para el espacio de soluciones\n",
        "### (*) ¿Cual es la estructura de datos que mejor se adapta al problema? Argumentalo.(Es posible que hayas elegido una al principio y veas la necesidad de cambiar, arguentalo)\n",
        "\n",
        "Para el desarrollo del problema se selecciono el un modelo de datos tipo lista, que permiten almacenar y modificar datos a voluntad y necesidad del usuario. \n",
        "\n"
      ],
      "metadata": {
        "id": "WuOtmprHXWF6"
      }
    },
    {
      "cell_type": "markdown",
      "source": [
        "### Según el modelo para el espacio de soluciones\n",
        "#### (*)¿Cual es la función objetivo?\n",
        "#### (*)¿Es un problema de maximización o minimización?\n",
        "\n",
        "El problema presentado es un problema de busqueda, debído a que para su resolución es necesario encontrar una solución <b>(no necesariamente la más optíma)</b> que al ingresar un número entero nos retorne <b> una ecuación conformada por 5 numeros enteros no repetidos y las 4 operaciones elementales</b> de manera tal que al evaluarla de como resultado el numero ingresado.\n",
        "\n",
        "Para este problema implementaremos la técnica heuristica de algoritmos geneticos."
      ],
      "metadata": {
        "id": "6ot618TX1Kbh"
      }
    },
    {
      "cell_type": "markdown",
      "source": [
        "## Diseña un algoritmo para resolver el problema por fuerza bruta\n",
        "\n"
      ],
      "metadata": {
        "id": "v_vN6aqQY3cP"
      }
    },
    {
      "cell_type": "code",
      "source": [
        "import itertools"
      ],
      "metadata": {
        "id": "Jnq-olQk-2kB"
      },
      "execution_count": 30,
      "outputs": []
    },
    {
      "cell_type": "code",
      "source": [
        "def es_entero(expresion):\n",
        "    #funcion para evaluar si la expresión calculada es un numero entero\n",
        "    result=float(eval(expresion))\n",
        "    if result.is_integer():\n",
        "        return True\n",
        "    else:\n",
        "        return False "
      ],
      "metadata": {
        "id": "Z4X_ZoSQ9oUS"
      },
      "execution_count": 31,
      "outputs": []
    },
    {
      "cell_type": "code",
      "source": [
        "#genero todas las posibles variables según las restricciones\n",
        "variants = list(itertools.permutations(\"123456789\",5))\n",
        "operations=list(itertools.permutations(\"+-*/\",4))\n",
        "print(len(variants),len(operations))"
      ],
      "metadata": {
        "colab": {
          "base_uri": "https://localhost:8080/"
        },
        "id": "SwSbDiaEVanI",
        "outputId": "2fe02888-cb95-4c0e-df6d-0e82e4875c15"
      },
      "execution_count": 32,
      "outputs": [
        {
          "output_type": "stream",
          "name": "stdout",
          "text": [
            "15120 24\n"
          ]
        }
      ]
    },
    {
      "cell_type": "code",
      "source": [
        "#loop para crear todas las posibles expresiones y evaluar cuales expresiones retornan numero entero\n",
        "expresiones=[]\n",
        "numeros=[]\n",
        "soluciones=[]\n",
        "target=4\n",
        "for i in variants:\n",
        "    expresion=''\n",
        "    for j in operations:\n",
        "        expresion=i[0]+j[0]+i[1]+j[1]+i[2]+j[2]+i[3]+j[3]+i[4]\n",
        "        expresiones.append(expresion)\n",
        "        if es_entero(expresion):\n",
        "          numeros.append(int(eval(expresion)))\n",
        "          if int(eval(expresion))==target:\n",
        "            soluciones.append(eval(expresion))"
      ],
      "metadata": {
        "id": "-YJtgJ-4ZMa5"
      },
      "execution_count": 14,
      "outputs": []
    },
    {
      "cell_type": "markdown",
      "source": [
        "## Calcula la complejidad del algoritmo por fuerza bruta\n",
        "evaluando el diseño del algoritmo de fuerza brute obtenemos una complejidad de O(n^2) debido a que en el diseño se presentan 2 for anidados.\n"
      ],
      "metadata": {
        "id": "3uJs5V2L2rBZ"
      }
    },
    {
      "cell_type": "markdown",
      "source": [
        "## (*)Diseña un algoritmo que mejore la complejidad del algortimo por fuerza bruta. Argumenta porque crees que mejora el algoritmo por fuerza bruta"
      ],
      "metadata": {
        "id": "ZV_wx-Yv3ZNo"
      }
    },
    {
      "cell_type": "code",
      "source": [
        "#libreria\n",
        "import random\n",
        "#constantes\n",
        "OBJETIVO=4\n",
        "OPERATIONS = [\"+\", \"-\", \"*\", \"/\"]\n",
        "NUMBERS = list(range(1, 10))\n",
        "POPULATION_SIZE = 20\n",
        "NUM_GENERATIONS= 100"
      ],
      "metadata": {
        "id": "hJ1r4WqG2tSb"
      },
      "execution_count": 19,
      "outputs": []
    },
    {
      "cell_type": "code",
      "source": [
        "def generar_expresion():\n",
        "    # generamos lista de numeros aleatorios sin repetir\n",
        "    numeros=random.sample(NUMBERS,5)\n",
        "    #generamos lista de operadores aleatorios sin repetir\n",
        "    operadores=random.sample(OPERATIONS,4)\n",
        "    #creamos la expresión a partir d elas dos listas anteriores\n",
        "    expresion=''.join([str(n) + op for n, op in zip(numeros, operadores)]) + str(numeros[-1])\n",
        "    return expresion"
      ],
      "metadata": {
        "id": "wb5eFUE64S4s"
      },
      "execution_count": 20,
      "outputs": []
    },
    {
      "cell_type": "code",
      "source": [
        "def es_entero(expresion):\n",
        "    #funcion para evaluar si la expresión calculada es un numero entero\n",
        "    result=float(eval(expresion))\n",
        "    if result.is_integer():\n",
        "        return True\n",
        "    else:\n",
        "        return False "
      ],
      "metadata": {
        "id": "CthX4fV94UVl"
      },
      "execution_count": 21,
      "outputs": []
    },
    {
      "cell_type": "code",
      "source": [
        "def generar_poblacion_refinada(tamanio):\n",
        "    #función para generar una población cuya expresion de un numero entero al ser evaluada\n",
        "    i=0\n",
        "    poblacion=[]\n",
        "    while i<len(range(tamanio)):\n",
        "        expresion=generar_expresion()\n",
        "        if es_entero(expresion):\n",
        "            poblacion.append(expresion)\n",
        "            i+=1\n",
        "    return(poblacion)"
      ],
      "metadata": {
        "id": "lerO9ZDR4Vgb"
      },
      "execution_count": 22,
      "outputs": []
    },
    {
      "cell_type": "code",
      "source": [
        "def evaluar(solucion):\n",
        "    #Función para evaluar cómo se comporta mi algoritmo genetico en busqueda del número\n",
        "    #condición para que no salte problemas en la evaluación de la expresión\n",
        "    try:\n",
        "        resultado=eval(solucion)\n",
        "    except ZeroDivisionError:\n",
        "        pass\n",
        "    return(1/abs(OBJETIVO-resultado+1e-10)) #sumamos un numero muy pequeño para evitar divisiones por cero"
      ],
      "metadata": {
        "id": "B6DuRnZX4W_L"
      },
      "execution_count": 23,
      "outputs": []
    },
    {
      "cell_type": "code",
      "source": [
        "def selecionar_padres(poblacion):\n",
        "    # puntaciones para los diferentes individuos\n",
        "    puntuacion=[evaluar(solucion) for solucion in poblacion]\n",
        "    total=sum(puntuacion)\n",
        "    #elegir padre\n",
        "    r=random.uniform(0,total)\n",
        "    #defino variable para evaluar según puntuación\n",
        "    valor_evaluacion=0\n",
        "    #ciclo para elegir el padre según puntuación\n",
        "    for i, solucion in enumerate(poblacion):\n",
        "        valor_evaluacion+=puntuacion[i]\n",
        "        #condicional para comparar con mi valor aleatorio\n",
        "        if valor_evaluacion>=r:\n",
        "            parent1=solucion\n",
        "            break\n",
        "    #elegir la madre\n",
        "    r=random.uniform(0,total)\n",
        "    #defino variable para evaluar según puntuación\n",
        "    valor_evaluacion=0\n",
        "    #ciclo para elegir el padre según puntuación\n",
        "    for i, solucion in enumerate (poblacion):\n",
        "        valor_evaluacion+=puntuacion[i]\n",
        "        #condicional para comparar con mi valor aleatorio\n",
        "        if valor_evaluacion>=r:\n",
        "            parent2=solucion\n",
        "            break\n",
        "    # retornamos el padre y la madre\n",
        "    return(parent1,parent2)"
      ],
      "metadata": {
        "id": "qOf494c04Zg0"
      },
      "execution_count": 24,
      "outputs": []
    },
    {
      "cell_type": "code",
      "source": [
        "def cruces_padres(parent1,parent2):\n",
        "    # Eligir un punto de corte aleatorio\n",
        "    # creo punto de corte\n",
        "    punto=random.randint(1,min(len(parent1),len(parent2))-1)\n",
        "    #creando hijos basados en el punto de corte\n",
        "    hijo_1=parent1[:punto]+parent2[punto:]\n",
        "    hijo_2=parent2[:punto]+parent1[punto:]           \n",
        "    return(hijo_1,hijo_2)"
      ],
      "metadata": {
        "id": "7rueusws4bHU"
      },
      "execution_count": 25,
      "outputs": []
    },
    {
      "cell_type": "code",
      "source": [
        "def mutacion(solucion):\n",
        "    #creando nuevo punto de corte para introducir mutación\n",
        "    mutacion_index= random.randint(0, len(solucion)- 1)\n",
        "    #usar modulo para evaluar si es numeo u operador\n",
        "    if mutacion_index%2==0:\n",
        "        nuevo_num=random.choice(list(set([str(i) for i in NUMBERS])-set(solucion)))\n",
        "        nueva=solucion[:mutacion_index]+nuevo_num+solucion[mutacion_index+1:]\n",
        "    else:\n",
        "        tamanio=len(list(set(OPERATIONS)-set(solucion)))\n",
        "        #condición sino se repiten operaciones en los hijos\n",
        "        if tamanio>0:\n",
        "            operador=random.choice(list(set(OPERATIONS)-set(solucion)))\n",
        "            nueva=solucion[:mutacion_index]+operador+solucion[mutacion_index+1:]\n",
        "        else:\n",
        "            #el adoptado\n",
        "            operador=random.choice(OPERATIONS)\n",
        "            nueva=solucion[:mutacion_index]+operador+solucion[mutacion_index+1:]            \n",
        "    return nueva"
      ],
      "metadata": {
        "id": "rhNk7QGH4cxk"
      },
      "execution_count": 26,
      "outputs": []
    },
    {
      "cell_type": "code",
      "source": [
        "def algoritmo_genetico():\n",
        "    # Generar la población inicial\n",
        "    poblacion=generar_poblacion_refinada(POPULATION_SIZE)\n",
        "    #bucle para evaluar generaciones\n",
        "    for generacion in range(NUM_GENERATIONS):\n",
        "        #generación de padres por mejor puntaje\n",
        "        padre,madre=selecionar_padres(poblacion)\n",
        "        #generación de hijo por mezcla de padres\n",
        "        hijo1,hijo2=cruces_padres(padre,madre)\n",
        "        #mutar hijos\n",
        "        hijo1=mutacion(hijo1)\n",
        "        hijo2=mutacion(hijo2)\n",
        "        #remplazar en la poblacion los peores padres\n",
        "        puntuacion_h1=evaluar(hijo1)\n",
        "        puntuacion_h2=evaluar(hijo2)\n",
        "        #puntuaciones depoblacion para comparar\n",
        "        puntuaciones=[evaluar(solucion) for solucion in poblacion]\n",
        "        # encontrar el peor\n",
        "        peor=puntuaciones.index(min(puntuaciones))\n",
        "        if puntuacion_h1>puntuaciones[peor]:\n",
        "            poblacion[peor]=hijo1\n",
        "        peor=puntuaciones.index(min(puntuaciones))\n",
        "        if puntuacion_h2>puntuaciones[peor]:\n",
        "            poblacion[peor]=hijo2\n",
        "        #buscar la mejor solución\n",
        "        mejor=max(poblacion,key=evaluar)\n",
        "        if evaluar(mejor)==1:\n",
        "            return(mejor)\n",
        "        \n",
        "    return max(poblacion,key=evaluar)"
      ],
      "metadata": {
        "id": "0x8QIdmH4ekE"
      },
      "execution_count": 27,
      "outputs": []
    },
    {
      "cell_type": "code",
      "source": [
        "solucion=algoritmo_genetico()\n",
        "print(solucion,eval(solucion))"
      ],
      "metadata": {
        "colab": {
          "base_uri": "https://localhost:8080/"
        },
        "id": "DPXBfdEc4f9U",
        "outputId": "b0e3a258-173d-4ad2-a92d-97161bfef1d0"
      },
      "execution_count": 28,
      "outputs": [
        {
          "output_type": "stream",
          "name": "stdout",
          "text": [
            "3/9*6+4/2 4.0\n"
          ]
        }
      ]
    },
    {
      "cell_type": "markdown",
      "source": [
        "## (*)Calcula la complejidad del algoritmo \n",
        "En este diseño implementado contamos con una complejidad de O(n^2) por la presencia de fors anidados en la función algoritmo_genetico."
      ],
      "metadata": {
        "id": "WS8MET9t4qaR"
      }
    },
    {
      "cell_type": "markdown",
      "source": [
        "## Según el problema (y tenga sentido), diseña un juego de datos de entrada aleatorios"
      ],
      "metadata": {
        "id": "KsBVDZDm6y6j"
      }
    },
    {
      "cell_type": "code",
      "source": [
        "datos_random=random.sample(list(set(numeros)),7)\n",
        "datos_random"
      ],
      "metadata": {
        "colab": {
          "base_uri": "https://localhost:8080/"
        },
        "id": "t3AhquCn4h9s",
        "outputId": "8929ae58-7600-4547-f22a-476dc1457473"
      },
      "execution_count": 38,
      "outputs": [
        {
          "output_type": "execute_result",
          "data": {
            "text/plain": [
              "[-4, -34, -11, 51, -65, -29, 77]"
            ]
          },
          "metadata": {},
          "execution_count": 38
        }
      ]
    },
    {
      "cell_type": "markdown",
      "source": [
        "### Aplica el algoritmo al juego de datos generado"
      ],
      "metadata": {
        "id": "7Kyoyl0O7p0R"
      }
    },
    {
      "cell_type": "code",
      "source": [
        "for i in datos_random:\n",
        "  OBJETIVO=i\n",
        "  solucion=algoritmo_genetico()\n",
        "  print(solucion,eval(solucion))"
      ],
      "metadata": {
        "colab": {
          "base_uri": "https://localhost:8080/"
        },
        "id": "cV027cgX7F7L",
        "outputId": "c47be380-7e1d-4663-c382-2d1537c7800e"
      },
      "execution_count": 39,
      "outputs": [
        {
          "output_type": "stream",
          "name": "stdout",
          "text": [
            "4/2+1*3-9 -4.0\n",
            "4+7-5*9/1 -34.0\n",
            "1+8-5*8/2 -11.0\n",
            "6/1*8+5-2 51.0\n",
            "4/1+3-8*9 -65.0\n",
            "9+4-7*1*6 -29\n",
            "9*9+4/2-6 77.0\n"
          ]
        }
      ]
    },
    {
      "cell_type": "markdown",
      "source": [
        "Enumera las referencias que has utilizado(si ha sido necesario) para llevar a cabo el trabajo\n",
        "\n",
        "https://www.geeksforgeeks.org/genetic-algorithms/"
      ],
      "metadata": {
        "id": "cGzAcSha7tip"
      }
    },
    {
      "cell_type": "markdown",
      "source": [
        "### Describe brevemente las lineas de como crees que es posible avanzar en el estudio del problema. Ten en cuenta incluso posibles variaciones del problema y/o variaciones al alza del tamaño\n",
        "\n",
        "Desarollar funciones que evaluen la repetibilidad de números o caracteres en las diferentes generaciones, para así garantizar la confiabilidad de la información.\n",
        "\n",
        "Tambien agregar un hijo \"adoptado\" a la evalaución de mejora del algoritmo podría ser una solución. \n"
      ],
      "metadata": {
        "id": "CnQ8YS678IyR"
      }
    },
    {
      "cell_type": "code",
      "source": [],
      "metadata": {
        "id": "c6CMfZdZ9DTE"
      },
      "execution_count": null,
      "outputs": []
    }
  ]
}