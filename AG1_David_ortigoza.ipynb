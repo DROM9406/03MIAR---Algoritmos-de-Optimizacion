{
  "nbformat": 4,
  "nbformat_minor": 0,
  "metadata": {
    "colab": {
      "provenance": []
    },
    "kernelspec": {
      "name": "python3",
      "display_name": "Python 3"
    },
    "language_info": {
      "name": "python"
    }
  },
  "cells": [
    {
      "cell_type": "markdown",
      "source": [
        "# Actividad Guiada 1 Algoritmos de optimización\n",
        "\n",
        "David Ricardo Ortigoza Micolta\n",
        "\n",
        "Notebook: https://colab.research.google.com/drive/161fx8FgMS07r_S6roN51zxojbKFKdvsj?usp=sharing\n",
        "\n",
        "github: https://github.com/DROM9406/03MIAR---Algoritmos-de-Optimizacion"
      ],
      "metadata": {
        "id": "CTqv2uHcSttF"
      }
    },
    {
      "cell_type": "markdown",
      "source": [
        "## Divide y vencerás"
      ],
      "metadata": {
        "id": "xkHDKmvtWdjS"
      }
    },
    {
      "cell_type": "code",
      "source": [
        "# Torres de hanoy\n",
        "def torres_hanoy(N,desde,hasta):\n",
        "  \"\"\"\n",
        "  N = número de fichas\n",
        "  deste= número del poste de ubivavión inicial de la torre\n",
        "  hasta=númedo del poste donde debe terminar la torre\n",
        "  \"\"\"\n",
        "  if N==1:\n",
        "    print(f'LLevar la ficha {N} desde {desde} hasta {hasta}')\n",
        "  else:\n",
        "    #llevar la ficha al pivote\n",
        "    torres_hanoy(N-1,desde,6-desde-hasta)\n",
        "    print(f'LLevar la ficha {N} desde {desde} hasta {hasta}')\n",
        "    #llevar la ficha del pivote hasta \n",
        "    torres_hanoy(N-1,6-desde-hasta,hasta)\n",
        "\n",
        "\n",
        "torres_hanoy(3,1,3)"
      ],
      "metadata": {
        "colab": {
          "base_uri": "https://localhost:8080/"
        },
        "id": "g3RMQWBKWi5s",
        "outputId": "6e11972d-0cb7-4438-cfa2-91484f1e8030"
      },
      "execution_count": 2,
      "outputs": [
        {
          "output_type": "stream",
          "name": "stdout",
          "text": [
            "LLevar la ficha 1 desde 1 hasta 3\n",
            "LLevar la ficha 2 desde 1 hasta 2\n",
            "LLevar la ficha 1 desde 3 hasta 2\n",
            "LLevar la ficha 3 desde 1 hasta 3\n",
            "LLevar la ficha 1 desde 2 hasta 1\n",
            "LLevar la ficha 2 desde 2 hasta 3\n",
            "LLevar la ficha 1 desde 1 hasta 3\n"
          ]
        }
      ]
    },
    {
      "cell_type": "code",
      "source": [
        "#técnica voraz\n",
        "sistema=[25,10,5,1]\n",
        "def cambio_monedas(cantidad, sistema):\n",
        "  # cantidad a cambiar\n",
        "  # sistema: valor de las monedas diferente, ordenado de mayor valor a menor\n",
        "  solucion = {}\n",
        "  for v in sistema:\n",
        "    monedas =cantidad//v\n",
        "    solucion[v]=monedas\n",
        "    cantidad -= monedas * v\n",
        "    if cantidad==0:\n",
        "      return solucion\n",
        "\n",
        "cambio_monedas(157,[20,10,5,1])"
      ],
      "metadata": {
        "colab": {
          "base_uri": "https://localhost:8080/"
        },
        "id": "D6eIzYq5bJ1B",
        "outputId": "641d49f7-8ae0-46fd-e6f5-2ba7eb2a89ab"
      },
      "execution_count": 3,
      "outputs": [
        {
          "output_type": "execute_result",
          "data": {
            "text/plain": [
              "{20: 7, 10: 1, 5: 1, 1: 2}"
            ]
          },
          "metadata": {},
          "execution_count": 3
        }
      ]
    },
    {
      "cell_type": "code",
      "source": [
        "#backtracking\n",
        "\n",
        "def es_prometedora(SOLUCION,etapa):\n",
        "  for i in range(etapa+1):\n",
        "    # si hay dos reinas en la misma fila\n",
        "    if SOLUCION.count(SOLUCION[i]) > 1:       \n",
        "      return False\n",
        "  \n",
        "    #Verifica las diagonales\n",
        "    for j in range(i+1, etapa +1 ):\n",
        "      if abs(i-j) == abs(SOLUCION[i]-SOLUCION[j]) : return False\n",
        "  return True\n",
        "\n",
        "#Proceso principal de N-Reinas\n",
        "def reinas(N, solucion=[],etapa=0): \n",
        "  if len(solucion) == 0:\n",
        "    solucion = [0 for i in range(N) ]\n",
        "  \n",
        "  for i in range(1, N+1):\n",
        "    solucion[etapa] = i\n",
        "    if es_prometedora(solucion, etapa):\n",
        "      if etapa == N-1:\n",
        "        print(solucion)\n",
        "      else:  \n",
        "        reinas(N, solucion, etapa+1)\n",
        "    else:\n",
        "      None\n",
        "  \n",
        "  solucion[etapa] = 0\n",
        "\n",
        "reinas(5,solucion=[],etapa=0)"
      ],
      "metadata": {
        "id": "GizTJ6cY6YrS",
        "colab": {
          "base_uri": "https://localhost:8080/"
        },
        "outputId": "be9a5a56-55db-4e64-c80d-0ba4b4bb03f9"
      },
      "execution_count": 7,
      "outputs": [
        {
          "output_type": "stream",
          "name": "stdout",
          "text": [
            "[1, 3, 5, 2, 4]\n",
            "[1, 4, 2, 5, 3]\n",
            "[2, 4, 1, 3, 5]\n",
            "[2, 5, 3, 1, 4]\n",
            "[3, 1, 4, 2, 5]\n",
            "[3, 5, 2, 4, 1]\n",
            "[4, 1, 3, 5, 2]\n",
            "[4, 2, 5, 3, 1]\n",
            "[5, 2, 4, 1, 3]\n",
            "[5, 3, 1, 4, 2]\n"
          ]
        }
      ]
    },
    {
      "cell_type": "code",
      "source": [],
      "metadata": {
        "id": "pqgXElB6m9H0"
      },
      "execution_count": null,
      "outputs": []
    }
  ]
}