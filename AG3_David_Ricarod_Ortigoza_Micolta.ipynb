{
  "nbformat": 4,
  "nbformat_minor": 0,
  "metadata": {
    "colab": {
      "provenance": []
    },
    "kernelspec": {
      "name": "python3",
      "display_name": "Python 3"
    },
    "language_info": {
      "name": "python"
    }
  },
  "cells": [
    {
      "cell_type": "markdown",
      "source": [
        "# Actividad guiada 3\n",
        "\n",
        "David Ricardo Ortigoza Micolta\n",
        "\n",
        "colab =https://colab.research.google.com/drive/1Lx9gjXEqVP3tazxz-5zIKTwPCCoYPsu3?usp=sharing\n",
        "\n",
        "github= "
      ],
      "metadata": {
        "id": "2vR9sfNOsr8A"
      }
    },
    {
      "cell_type": "code",
      "execution_count": 27,
      "metadata": {
        "colab": {
          "base_uri": "https://localhost:8080/",
          "height": 0
        },
        "id": "tmL5UkNpshE-",
        "outputId": "c5a61e80-7fc3-4fb4-8f5a-e45c10e373d6"
      },
      "outputs": [
        {
          "output_type": "stream",
          "name": "stdout",
          "text": [
            "Looking in indexes: https://pypi.org/simple, https://us-python.pkg.dev/colab-wheels/public/simple/\n",
            "Requirement already satisfied: requests in /usr/local/lib/python3.8/dist-packages (2.25.1)\n",
            "Requirement already satisfied: certifi>=2017.4.17 in /usr/local/lib/python3.8/dist-packages (from requests) (2022.12.7)\n",
            "Requirement already satisfied: chardet<5,>=3.0.2 in /usr/local/lib/python3.8/dist-packages (from requests) (4.0.0)\n",
            "Requirement already satisfied: idna<3,>=2.5 in /usr/local/lib/python3.8/dist-packages (from requests) (2.10)\n",
            "Requirement already satisfied: urllib3<1.27,>=1.21.1 in /usr/local/lib/python3.8/dist-packages (from requests) (1.24.3)\n",
            "Looking in indexes: https://pypi.org/simple, https://us-python.pkg.dev/colab-wheels/public/simple/\n",
            "Requirement already satisfied: tsplib95 in /usr/local/lib/python3.8/dist-packages (0.7.1)\n",
            "Requirement already satisfied: networkx~=2.1 in /usr/local/lib/python3.8/dist-packages (from tsplib95) (2.8.8)\n",
            "Requirement already satisfied: Deprecated~=1.2.9 in /usr/local/lib/python3.8/dist-packages (from tsplib95) (1.2.13)\n",
            "Requirement already satisfied: Click>=6.0 in /usr/local/lib/python3.8/dist-packages (from tsplib95) (7.1.2)\n",
            "Requirement already satisfied: tabulate~=0.8.7 in /usr/local/lib/python3.8/dist-packages (from tsplib95) (0.8.10)\n",
            "Requirement already satisfied: wrapt<2,>=1.10 in /usr/local/lib/python3.8/dist-packages (from Deprecated~=1.2.9->tsplib95) (1.14.1)\n"
          ]
        }
      ],
      "source": [
        "!pip install requests    #Hacer llamadas http a paginas de la red\n",
        "!pip install tsplib95    #Modulo para las instancias del problema del TSP"
      ]
    },
    {
      "cell_type": "code",
      "source": [
        "#librerias\n",
        "import urllib.request # Libreria para llamar paginas web\n",
        "import tsplib95       # Modulo para las instancias del problema del TSP\n",
        "import math           # Libreria para hacer funciones matematicas basada en C\n",
        "import random         # Modulo para aleatorizar "
      ],
      "metadata": {
        "id": "AqAhRQWn0iEw"
      },
      "execution_count": 28,
      "outputs": []
    },
    {
      "cell_type": "markdown",
      "source": [
        "## Carga de datos"
      ],
      "metadata": {
        "id": "6VpFSUCE1MUR"
      }
    },
    {
      "cell_type": "code",
      "source": [
        "#descarga de datos\n",
        "\n",
        "file= \"swiss42.tsp\" #nombre del archivo\n",
        "urllib.request.urlretrieve(f\"http://comopt.ifi.uni-heidelberg.de/software/TSPLIB95/tsp/swiss42.tsp.gz\",file+'.gz') # descargue la info de la url\n",
        "#usamos comando del sistema para descomprimir el archivo\n",
        "!gzip -d swiss42.tsp.gz"
      ],
      "metadata": {
        "id": "psb_B-xB1Fnq",
        "colab": {
          "base_uri": "https://localhost:8080/",
          "height": 0
        },
        "outputId": "c79a2ab0-8f24-49c7-dd85-b8eccaba8e1f"
      },
      "execution_count": 36,
      "outputs": [
        {
          "output_type": "stream",
          "name": "stdout",
          "text": [
            "gzip: swiss42.tsp already exists; do you wish to overwrite (y or n)? y\n"
          ]
        }
      ]
    },
    {
      "cell_type": "code",
      "source": [
        "# carga de datos \n",
        "\n",
        "# uso de tslip para leer datos\n",
        "\n",
        "problema= tsplib95.load(file) #asigno la información a la variable problema\n",
        "\n",
        "# definición de los nodos \n",
        "\n",
        "nodos,aristas= list(problema.get_nodes()),list(problema.get_edges())\n"
      ],
      "metadata": {
        "id": "V9VvlY4Z4g-s"
      },
      "execution_count": 37,
      "outputs": []
    },
    {
      "cell_type": "markdown",
      "source": [
        "## Funciones Básicas"
      ],
      "metadata": {
        "id": "z9JTEPIq8s-w"
      }
    },
    {
      "cell_type": "code",
      "source": [
        "# Genear solución aleatoria que comience en el nodo 0\n",
        "def crear_solucion(nodos):\n",
        "  #definición del nodo 0 en la solución que vamos a crear\n",
        "  solucion=[nodos[0]]\n",
        "  #loop para crear solución aleatoria\n",
        "  for i in nodos[1:]:\n",
        "    # pega los nodos seleccionados a la cadena y lo elimina de la lista dsiponible para escoger\n",
        "    solucion=solucion + [random.choice(list(set(nodos) - set({nodos[0]}) - set(solucion)))]\n",
        "  return(solucion)"
      ],
      "metadata": {
        "id": "-LBAqHyb8ph-"
      },
      "execution_count": 38,
      "outputs": []
    },
    {
      "cell_type": "code",
      "source": [
        "# distancia entre nodos\n",
        "def distancia(a,b,problema):\n",
        "  return problema.get_weight(a,b)\n"
      ],
      "metadata": {
        "id": "stCXf7Yd-XJe"
      },
      "execution_count": 39,
      "outputs": []
    },
    {
      "cell_type": "code",
      "source": [
        "# calculo de la distancia totla de una solución\n",
        "def distancia_total(solucion,problema):\n",
        "  distancia_total=0\n",
        "  for i in range(len(solucion)-1):\n",
        "    #cálculo de la distancia entre los nodos seleccionados aleatoriamente\n",
        "    distancia_total += distancia(solucion[i] ,solucion[i+1] ,  problema)\n",
        "  return distancia_total + distancia(solucion[len(solucion)-1] ,solucion[0], problema)"
      ],
      "metadata": {
        "id": "M8HZ4mUp_KZA"
      },
      "execution_count": 40,
      "outputs": []
    },
    {
      "cell_type": "markdown",
      "source": [
        "## Heuristica: Busqueda aleatoria"
      ],
      "metadata": {
        "id": "2Xz5FhDbW2c3"
      }
    },
    {
      "cell_type": "code",
      "source": [
        "def busqueda_voraz_aleatoria(problema,n):\n",
        "  Nodos=list(problema.get_nodes())\n",
        "  #lista para almacener la distancia\n",
        "  mejor_solucion=[]\n",
        "  #valor para mejor distancia\n",
        "  mejor_distancia=float('inf')\n",
        "  for i in range(n):\n",
        "    #llamar iterativamente la solución para crear lista de nodos aleatorios\n",
        "    solucion=crear_solucion(Nodos)\n",
        "    #calcular la distancia para la solución creada\n",
        "    distancia=distancia_total(solucion,problema)\n",
        "    #condicional para evaluar distancia\n",
        "    if distancia<mejor_distancia:\n",
        "      mejor_distancia=distancia\n",
        "      mejor_solucion=solucion\n",
        "    #imprimir soluciones\n",
        "  print(f'La mejor solicion es {mejor_solucion}')\n",
        "  print(f'La distancia para la solución es: {mejor_distancia}')\n",
        "  return mejor_solucion"
      ],
      "metadata": {
        "id": "P_waRIXg-ZZg"
      },
      "execution_count": 49,
      "outputs": []
    },
    {
      "cell_type": "code",
      "source": [
        "# Realizar la busqueda aleatoria con 5000 iteraciones\n",
        "solucion=busqueda_voraz_aleatoria(problema,10000)"
      ],
      "metadata": {
        "colab": {
          "base_uri": "https://localhost:8080/",
          "height": 0
        },
        "id": "fiKG2mrQbkqq",
        "outputId": "1438f7fc-c593-44e6-bb30-e0898c0df6bb"
      },
      "execution_count": 50,
      "outputs": [
        {
          "output_type": "stream",
          "name": "stdout",
          "text": [
            "La mejor solicion es [0, 31, 17, 21, 12, 11, 8, 13, 27, 35, 39, 40, 24, 23, 10, 3, 30, 18, 19, 32, 36, 14, 26, 28, 4, 29, 2, 15, 5, 25, 22, 34, 1, 7, 20, 33, 38, 37, 16, 41, 9, 6]\n",
            "La distancia para la solución es: 3742\n"
          ]
        }
      ]
    },
    {
      "cell_type": "markdown",
      "source": [
        "## Busqueda Local (trabaja con busqueda en el vecindario)"
      ],
      "metadata": {
        "id": "ElDwXGkedgtm"
      }
    },
    {
      "cell_type": "code",
      "source": [
        "def generar_vecino(solucion):\n",
        "  # creamos variables para almacenar la mejor solución y distancia\n",
        "  mejor_solucion=[]\n",
        "  mejor_distancia=float('inf')\n",
        "  # bucle para recorrer los nodos y evaluar vecindad\n",
        "  for i in range(1,len(solucion)-1):\n",
        "    for j in range(i+1,len(solucion)):\n",
        "      # se crea el vecino concatenando listas\n",
        "      vecino=solucion[:i]+ [solucion[j]] + solucion[i+1:j] + [solucion[i]] + solucion[j+1:]\n",
        "      # evaluamos distancia de la solución\n",
        "      distancia=distancia_total(vecino,problema)\n",
        "      # condicional para guardar la mejor solución encontrada\n",
        "      if distancia<=mejor_distancia:\n",
        "        mejor_distancia=distancia\n",
        "        mejor_solucion=vecino\n",
        "  return mejor_solucion"
      ],
      "metadata": {
        "id": "4g18Nzvcby4y"
      },
      "execution_count": 43,
      "outputs": []
    },
    {
      "cell_type": "code",
      "source": [
        "#generamos una solución con el algoritmo anterior\n",
        "print(\"Distancia Solucion Incial:\" , distancia_total(solucion, problema))\n",
        "#creando nueva solución con busqueda local\n",
        "nueva_solucion = generar_vecino(solucion)\n",
        "print(\"Distancia Mejor Solucion Local:\", distancia_total(nueva_solucion, problema))"
      ],
      "metadata": {
        "colab": {
          "base_uri": "https://localhost:8080/",
          "height": 0
        },
        "id": "9BkapKOVvMVC",
        "outputId": "41785516-72df-4cd7-a985-d0338562b9d3"
      },
      "execution_count": 53,
      "outputs": [
        {
          "output_type": "stream",
          "name": "stdout",
          "text": [
            "Distancia Solucion Incial: 3742\n",
            "Distancia Mejor Solucion Local: 3438\n"
          ]
        }
      ]
    },
    {
      "cell_type": "code",
      "source": [
        "def  busqueda_local(problema):\n",
        "  # creamos variables para almacenar la mejor solución y distancia\n",
        "  mejor_solucion=[]\n",
        "  #generamos solución inicial de referencia (aleatoria)\n",
        "  solucion_referencia=crear_solucion(nodos)\n",
        "  mejor_distancia=distancia_total(solucion_referencia,problema)\n",
        "  #iteraciones\n",
        "  iteracion=0\n",
        "  while(1):\n",
        "    #incrementamos el contador\n",
        "    iteracion+=1\n",
        "    #creamos un vencindario para la solución\n",
        "    vecino=generar_vecino(solucion_referencia)\n",
        "    #caluclamos distancia\n",
        "    distancia_vecindad=distancia_total(vecino,problema)\n",
        "    #condicional de evaluación de vecindad\n",
        "    if distancia_vecindad<mejor_distancia:\n",
        "      #asigno la mejor solución y distancia\n",
        "      mejor_solucion=vecino\n",
        "      mejor_distancia=distancia_vecindad\n",
        "    else:\n",
        "      print(f'En la iteracion {iteracion} la mejor solución encontrada es: {mejor_solucion} con una distancia {mejor_distancia}')\n",
        "      #el return romple el ciclo\n",
        "      return(mejor_solucion)\n",
        "    solucion_referencia=vecino"
      ],
      "metadata": {
        "id": "U19-tk6OvhJh"
      },
      "execution_count": 64,
      "outputs": []
    },
    {
      "cell_type": "code",
      "source": [
        "sol = busqueda_local(problema)"
      ],
      "metadata": {
        "colab": {
          "base_uri": "https://localhost:8080/",
          "height": 0
        },
        "id": "SsEWx-nOFDlL",
        "outputId": "5414ad80-29a8-4a9f-dd23-f047c90a7b1e"
      },
      "execution_count": 65,
      "outputs": [
        {
          "output_type": "stream",
          "name": "stdout",
          "text": [
            "En la iteracion 30 la mejor solución encontrada es: [0, 2, 27, 17, 36, 35, 31, 32, 9, 21, 39, 22, 30, 4, 5, 26, 18, 10, 8, 29, 28, 3, 14, 16, 15, 37, 7, 25, 41, 23, 40, 24, 38, 34, 33, 20, 19, 13, 11, 12, 6, 1] con una distancia 2043\n"
          ]
        }
      ]
    },
    {
      "cell_type": "markdown",
      "source": [
        "## Recocido simulado\n",
        "Algorítmo basado en la termodinámica"
      ],
      "metadata": {
        "id": "pYhcrQptF47k"
      }
    },
    {
      "cell_type": "code",
      "source": [
        "def generar_vecino_aleatorio(solucion):\n",
        "  # asignar 2 nodos aleatoriamente\n",
        "  i,j = sorted(random.sample(range(1,len(solucion)),2))\n",
        "  #retonrar una solucion con los nodos intercambiados\n",
        "  "
      ],
      "metadata": {
        "id": "nb313S06Fmxe"
      },
      "execution_count": 66,
      "outputs": []
    },
    {
      "cell_type": "code",
      "source": [
        "#criterio de selección por pobrabilidad\n",
        "def probabilidad(T,D):\n",
        "  if random.random()<math.exp(-1*D/T):\n",
        "    return True\n",
        "  else:\n",
        "    return False"
      ],
      "metadata": {
        "id": "kyLtgzPdH6ip"
      },
      "execution_count": 72,
      "outputs": []
    },
    {
      "cell_type": "code",
      "source": [
        "def bajar_temp(T):\n",
        "  return(T*0.99)"
      ],
      "metadata": {
        "id": "z11xag7oJSvm"
      },
      "execution_count": 80,
      "outputs": []
    },
    {
      "cell_type": "code",
      "source": [
        "def recocido_simulado(problema,T):\n",
        "  #creo el estado inicial para el algoritmo\n",
        "  solucion_referencia=crear_solucion(nodos)\n",
        "  distancia_referencia=distancia_total(solucion_referencia,problema)\n",
        "  mejor_solucion=[]\n",
        "  mejor_distancia=10e100\n",
        "  n=0\n",
        "  # Bucle para evauar la temperatura\n",
        "  while T >0.0001:\n",
        "    n+=1\n",
        "    #calcular soluciones vecinas\n",
        "    vecina=generar_vecino(solucion_referencia)\n",
        "    #calculamos la distancia del vecino\n",
        "    distancia_vecino=distancia_total(vecina,problema)\n",
        "    #condicional para hallar la mejor solucion\n",
        "    if distancia_vecino < mejor_distancia:\n",
        "        mejor_solucion = vecina\n",
        "        mejor_distancia = distancia_vecino\n",
        "    \n",
        "    #condicional para evalauar la distancia, depende de si es mejor o por probabilidad\n",
        "    if distancia_vecino<distancia_referencia or probabilidad(T,abs(distancia_referencia-distancia_vecino)):\n",
        "      solucion_referencia=vecina\n",
        "      distancia_referencia=distancia_vecino\n",
        "    T=bajar_temp(T)\n",
        "  print(f'La mejor solución es: {mejor_solucion} con una distancia de {mejor_distancia}')"
      ],
      "metadata": {
        "id": "_T87D4L9JnQk"
      },
      "execution_count": 83,
      "outputs": []
    },
    {
      "cell_type": "code",
      "source": [
        "sol  = recocido_simulado(problema, 10000000)"
      ],
      "metadata": {
        "colab": {
          "base_uri": "https://localhost:8080/",
          "height": 0
        },
        "id": "j-vqEMIeMj-H",
        "outputId": "9f5ea8fa-7663-4836-9b53-7d8682039d14"
      },
      "execution_count": 84,
      "outputs": [
        {
          "output_type": "stream",
          "name": "stdout",
          "text": [
            "La mejor solución es: [0, 30, 29, 9, 23, 41, 25, 11, 12, 4, 3, 2, 27, 28, 32, 34, 33, 20, 31, 17, 38, 22, 24, 40, 21, 39, 8, 10, 18, 13, 19, 14, 16, 15, 37, 36, 35, 7, 5, 26, 6, 1] con una distancia de 1657\n"
          ]
        }
      ]
    },
    {
      "cell_type": "code",
      "source": [],
      "metadata": {
        "id": "T3KHQdzsMmCQ"
      },
      "execution_count": null,
      "outputs": []
    }
  ]
}